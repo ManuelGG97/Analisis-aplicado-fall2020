{
 "cells": [
  {
   "cell_type": "markdown",
   "metadata": {},
   "source": [
    "## Instrucciones: correr el código sólo con los datos de secuestro"
   ]
  },
  {
   "cell_type": "code",
   "execution_count": 2,
   "metadata": {},
   "outputs": [],
   "source": [
    "import numpy as np\n",
    "import pandas as pd\n",
    "import random"
   ]
  },
  {
   "cell_type": "markdown",
   "metadata": {},
   "source": [
    "### Creación de la clase Optimizador"
   ]
  },
  {
   "cell_type": "code",
   "execution_count": 20,
   "metadata": {},
   "outputs": [],
   "source": [
    "class Optimizador:\n",
    "    #siempre empezar con _init_ (dos guiones)\n",
    "    def __init__(self, f, max_iter, eps): #parámetros globales de la clase. Siempre empezar con self\n",
    "        #toma h por default sin que se lo mandes, pero f no\n",
    "        self.f  = f\n",
    "        self.max_iter = max_iter\n",
    "        self.eps = eps\n",
    "        \n",
    "    #def repr hace que si le das print(Derivadas) te define qué mostrar\n",
    "    def __repr__(self):\n",
    "        return \"Los parámetros globales de la clase son: \\n f = %s \\n eps = %s \\n max_iters = %s\" % (self.f, self.eps, self.max_iters)\n",
    "\n",
    "    def grad(self, xk):\n",
    "        n   = xk.size\n",
    "        res = np.zeros(n)\n",
    "        for i in range(n):\n",
    "            aux = np.zeros(n)\n",
    "            aux[i] = self.eps\n",
    "            x1 = xk + aux\n",
    "            res[i] = (self.f(x1) - self.f(xk))/self.eps        \n",
    "        return res\n",
    "    \n",
    "    def hess(self,xk):\n",
    "        n = xk.size\n",
    "        res = np.zeros((n,n))\n",
    "        for i in range(n):\n",
    "            aux = np.zeros(n)\n",
    "            aux[i] = self.eps\n",
    "            x1 = xk + aux\n",
    "            res[:,i] = (self.grad(x1)-self.grad(xk))/self.eps\n",
    "        return res\n",
    "    \n",
    "    def alfa(self,xk,p): #Para que alfa satisfaga las condiciones de Wolfe\n",
    "        a_gorro = 1\n",
    "        ro = 0.8\n",
    "        c = .001\n",
    "        alpha = a_gorro\n",
    "        while self.f(xk+alpha*p) > self.f(xk)+c*alpha*(self.grad(xk).T).dot(p):\n",
    "            alpha = ro*alpha\n",
    "        return alpha\n",
    "    \n",
    "    def calcula_gamma(self,A): #Para poder modificar la Hessiana sumándole un matriz múltiplo de la identidad\n",
    "        k = 100\n",
    "        n = A.shape[0]\n",
    "        beta = 0.001\n",
    "        diagonal = np.diagonal(A)\n",
    "        minimo = np.amin(diagonal)\n",
    "        if minimo > 0:\n",
    "            gamma = 0\n",
    "        else:\n",
    "            gamma = -minimo + beta\n",
    "        #end if\n",
    "\n",
    "        for i in range(k):     \n",
    "            try:\n",
    "                np.linalg.cholesky(A+gamma*np.identity(n))\n",
    "            except np.linalg.LinAlgError:\n",
    "                gamma = max([2*gamma, beta])\n",
    "            else:\n",
    "                break\n",
    "\n",
    "\n",
    "        return gamma\n",
    "    \n",
    "    def NEWTON(self,xk): #Usamos la dirección de Newton para generar el direcció  pk\n",
    "        for i in range(self.max_iter):\n",
    "            H  = self.hess(xk)\n",
    "            pk = -np.linalg.inv(H).dot(self.grad(xk))\n",
    "            xk = xk + pk\n",
    "        return xk\n",
    "    \n",
    "    def NEWTON_MOD(self,xk): #Usamos una modificación a la Hessiana para generar la dirección pk\n",
    "        n = xk.size\n",
    "        for i in range(self.max_iter):\n",
    "            gamma = self.calcula_gamma(self.hess(xk))\n",
    "            Bk = self.hess(xk)+gamma*np.identity(n)\n",
    "\n",
    "            pk = -np.linalg.inv(Bk).dot(self.grad(xk))        \n",
    "            alpha = self.alfa(xk,pk)\n",
    "            xk = xk+alpha*pk\n",
    "            #print(f(x0)) (para ver si la función realmente decrece)\n",
    "        return xk\n",
    "    \n",
    "    def BFGS(self,xk): #En lugar de calcular la Hessiana en cada paso, calculamos la matriz H_k+1 en terminos de H_k\n",
    "        n = xk.size\n",
    "        I = np.identity(n)\n",
    "        Hk = I\n",
    "        while np.linalg.norm(self.grad(xk)) > self.eps:\n",
    "            pk = -Hk.dot(self.grad(xk))\n",
    "            alfa_k = self.alfa(xk,pk)\n",
    "            aux = xk\n",
    "            xk = xk + alfa_k*pk\n",
    "            sk = xk - aux\n",
    "            yk = self.grad(xk)-self.grad(aux)\n",
    "            aux2 = float(yk.dot(sk))\n",
    "            #Agregamos este if porque por alguna razón que desconocemos el producto punto se hace cero antes de que la norma\n",
    "            #del gradiente evaluada en xk sea menor que epsilon\n",
    "            if aux2 == 0:\n",
    "                break\n",
    "            else:\n",
    "                rho_k = 1.0/aux2\n",
    "                Hk = ((I - rho_k*sk.dot(yk.T)).dot(Hk)).dot(I - rho_k*yk.dot(sk.T)) + rho_k*(sk.dot(sk.T))\n",
    "            print(xk)\n",
    "        return xk\n",
    "    \n",
    "    def Optimiza(self, metodo, xk):\n",
    "        if metodo == \"BFGS\":\n",
    "            resp = self.BFGS(xk)\n",
    "        elif metodo == \"NEWTON_MOD\":\n",
    "            resp = self.NEWTON_MOD(xk)\n",
    "        elif metodo == \"NEWTON\":\n",
    "            resp = self.NEWTON(xk)\n",
    "        else:\n",
    "            resp = \"Método no encontrado\"\n",
    "        return resp"
   ]
  },
  {
   "cell_type": "markdown",
   "metadata": {},
   "source": [
    "### Prueba en la función de Rosenbrock"
   ]
  },
  {
   "cell_type": "code",
   "execution_count": 4,
   "metadata": {},
   "outputs": [],
   "source": [
    "def rosenbrock(xk):\n",
    "    a = 1\n",
    "    b = 100\n",
    "    return (a-xk[0])**2+b*(xk[1]-xk[0]**2)**2"
   ]
  },
  {
   "cell_type": "markdown",
   "metadata": {},
   "source": [
    "El primer objeto tiene como atributos a la función de rosenbrock, con un número de 1000 iteraciones para las funciones que así lo requieran y con un valor de toleracia (epsilon) de 0.00001"
   ]
  },
  {
   "cell_type": "code",
   "execution_count": 16,
   "metadata": {},
   "outputs": [],
   "source": [
    "objeto_1 = Optimizador(rosenbrock,1000,0.00001)"
   ]
  },
  {
   "cell_type": "markdown",
   "metadata": {},
   "source": [
    "Optimizamos la función de **rosenbrock** con el Algoritmo de Newton:"
   ]
  },
  {
   "cell_type": "code",
   "execution_count": 6,
   "metadata": {},
   "outputs": [
    {
     "data": {
      "text/plain": [
       "array([0.99700991, 0.99402376])"
      ]
     },
     "execution_count": 6,
     "metadata": {},
     "output_type": "execute_result"
    }
   ],
   "source": [
    "objeto_1.Optimiza(\"NEWTON\",np.array([2.5,8]))"
   ]
  },
  {
   "cell_type": "markdown",
   "metadata": {},
   "source": [
    "Optimizamos la función de **rosenbrock** con el método Búsqueda Lineal con Modificación a la Hessiana:"
   ]
  },
  {
   "cell_type": "code",
   "execution_count": 7,
   "metadata": {},
   "outputs": [
    {
     "data": {
      "text/plain": [
       "array([0.99968429, 0.9993484 ])"
      ]
     },
     "execution_count": 7,
     "metadata": {},
     "output_type": "execute_result"
    }
   ],
   "source": [
    "objeto_1.Optimiza(\"NEWTON_MOD\",np.array([2.5,8]))"
   ]
  },
  {
   "cell_type": "markdown",
   "metadata": {},
   "source": [
    "Optimizamos la función de **rosenbrock** con el método BFGS:"
   ]
  },
  {
   "cell_type": "code",
   "execution_count": 17,
   "metadata": {},
   "outputs": [
    {
     "data": {
      "text/plain": [
       "array([1.00394696, 1.00796915])"
      ]
     },
     "execution_count": 17,
     "metadata": {},
     "output_type": "execute_result"
    }
   ],
   "source": [
    "objeto_1.Optimiza(\"BFGS\",np.array([2.5,8]))"
   ]
  },
  {
   "cell_type": "markdown",
   "metadata": {},
   "source": [
    "Si llamamos a la función \"Optimiza\" y elegimos un método que no pertenece a la clase entonces:"
   ]
  },
  {
   "cell_type": "code",
   "execution_count": 21,
   "metadata": {},
   "outputs": [
    {
     "data": {
      "text/plain": [
       "'Método no encontrado'"
      ]
     },
     "execution_count": 21,
     "metadata": {},
     "output_type": "execute_result"
    }
   ],
   "source": [
    "objeto_1.Optimiza(\"kdjvbdfkv\",np.array([1.2,1.5]))"
   ]
  },
  {
   "cell_type": "markdown",
   "metadata": {},
   "source": [
    "### Prueba en la función de costos"
   ]
  },
  {
   "cell_type": "code",
   "execution_count": 23,
   "metadata": {},
   "outputs": [],
   "source": [
    "#ENTRADAS:\n",
    "# xk ==> es un vector con un número par de entradas en donde la primera mitad de las entradas\n",
    "#representa la latitud de las cámaras y la segunda mitad de las entradas representa su longitud\n",
    "def costo(xk):\n",
    "    #Para convertir al vector xk en la matriz camaras\n",
    "    n = xk.size\n",
    "    c = 0\n",
    "    vec1 = np.zeros(int(n/2))\n",
    "    vec2 = np.zeros(int(n/2))\n",
    "    for i in range(0,int(n/2)):\n",
    "        vec1[i] = xk[i]\n",
    "        vec2[i] = xk[int(n/2) + i]\n",
    "    camaras = np.array([vec1,vec2])\n",
    "    camaras = camaras.T\n",
    "    #Para leer los datos de los crimenes\n",
    "    datos = pd.read_csv('crime_data.csv')\n",
    "    datos = datos.to_numpy()\n",
    "    #Para convertir los datos en una matriz\n",
    "    latitudes = datos[:,3]\n",
    "    longitudes = datos[:,4]\n",
    "    crimenes = np.array([latitudes,longitudes])\n",
    "    crimenes = crimenes.T\n",
    "    #Ahora ya tenemos a una matriz de crimenes y una matriz de camaras\n",
    "    for i in range(len(camaras)):\n",
    "        for j in range(len(crimenes)):\n",
    "            c += np.linalg.norm(camaras[i] - crimenes[j])**2\n",
    "    for i in range(len(camaras)):\n",
    "        for j in range(len(camaras)):\n",
    "            if i != j:\n",
    "                c += 1/(0.00001 + (np.linalg.norm(camaras[i]-camaras[j]))**2)\n",
    "    return c"
   ]
  },
  {
   "cell_type": "code",
   "execution_count": 9,
   "metadata": {},
   "outputs": [
    {
     "name": "stdout",
     "output_type": "stream",
     "text": [
      "[ 19.58794971  19.54102211  19.94941456  19.86666599  19.94379121\n",
      " -99.09407951 -99.0590898  -99.54159422 -99.30066669 -99.50789578]\n"
     ]
    }
   ],
   "source": [
    "#Generamos un vector aleatorio de latitudes y longitudes de cada cámara para poder evaluar a nuestra\n",
    "#función de costos en un valor x0 que sea razonable\n",
    "x_camaras = np.zeros(10) \n",
    "for i in range(5):\n",
    "    x_camaras[i] = 19 + np.random.rand()\n",
    "    x_camaras[i+5] = -100 + np.random.rand()\n",
    "print(x_camaras)"
   ]
  },
  {
   "cell_type": "code",
   "execution_count": 10,
   "metadata": {},
   "outputs": [
    {
     "name": "stdout",
     "output_type": "stream",
     "text": [
      "2448.786085975055\n"
     ]
    }
   ],
   "source": [
    "#Evaluamos la función de costos en el vector aleatorio que generamos\n",
    "resp = costo(x_camaras)\n",
    "print(resp)"
   ]
  },
  {
   "cell_type": "markdown",
   "metadata": {},
   "source": [
    "El segundo objeto tiene como atributos a nuestra función  de costo, con un número de 50 iteraciones para las funciones que lo requieran y con un valor de tolerancia (épsilon) de 0.0001"
   ]
  },
  {
   "cell_type": "code",
   "execution_count": 24,
   "metadata": {},
   "outputs": [],
   "source": [
    "objeto_2 = Optimizador(costo,50,0.001)"
   ]
  },
  {
   "cell_type": "markdown",
   "metadata": {},
   "source": [
    "2.1) Optimizamos la función **costo** con el Algoritmo de Newton:"
   ]
  },
  {
   "cell_type": "code",
   "execution_count": 12,
   "metadata": {},
   "outputs": [
    {
     "name": "stdout",
     "output_type": "stream",
     "text": [
      "El mínimo de la función está cerca de: [  19.33883429   19.26891787   19.54610657   19.40378261   19.47047433\n",
      "  -98.72211675  -98.22682265 -100.09465947  -99.16671208  -99.60845164]\n",
      "El valor de la función costo en el xk encontrado: 93.10484666280433\n"
     ]
    }
   ],
   "source": [
    "x_newton = objeto_2.Optimiza(\"NEWTON\",x_camaras)\n",
    "resp1 = costo(x_newton)\n",
    "print(\"El mínimo de la función está cerca de:\", x_newton)\n",
    "print(\"El valor de la función costo en el xk encontrado:\", resp1)"
   ]
  },
  {
   "cell_type": "markdown",
   "metadata": {},
   "source": [
    "3.1) Optimizamos a la función **costo** con modificación a ala Hessiana:"
   ]
  },
  {
   "cell_type": "code",
   "execution_count": 13,
   "metadata": {},
   "outputs": [
    {
     "name": "stdout",
     "output_type": "stream",
     "text": [
      "El mínimo de la función está cerca de: [ 19.36936018  18.74121481  19.48008881  19.34715427  19.98358397\n",
      " -98.50881613 -99.12797648 -99.7610375  -99.15487474 -99.05535062]\n",
      "El valor de la función costo en el xk encontrado: 67.30183515791505\n"
     ]
    }
   ],
   "source": [
    "x_newton_mod = objeto_2.Optimiza(\"NEWTON_MOD\",x_camaras)\n",
    "resp2 = costo(x_newton_mod)\n",
    "print(\"El mínimo de la función está cerca de:\", x_newton_mod)\n",
    "print(\"El valor de la función costo en el xk encontrado:\", resp2)"
   ]
  },
  {
   "cell_type": "markdown",
   "metadata": {},
   "source": [
    "4.1) Optimizamos a la función **costo** con el algoritmo BFGS:"
   ]
  },
  {
   "cell_type": "code",
   "execution_count": 25,
   "metadata": {},
   "outputs": [
    {
     "name": "stdout",
     "output_type": "stream",
     "text": [
      "[  20.43284746   18.65687385   20.90608934   19.86111886   19.13891523\n",
      "  -99.73817728  -98.41463556 -105.08365247  -99.27414115  -94.44856149]\n",
      "[  18.19480181   17.02028962   18.41039767   17.70758435   17.32766663\n",
      " -101.46578979 -100.58651063 -104.6807876  -101.06979235  -98.16385267]\n",
      "[  21.21136837   20.03702681   21.4268323    20.72415013   20.34436679\n",
      "  -98.44908283  -97.56992984 -101.66322883  -98.05308228  -95.14788935]\n",
      "[  19.05974515   17.88540604   19.27520718   18.57252689   18.19274549\n",
      " -100.60070403  -99.72155286 -103.81483776 -100.20470344  -97.29952126]\n",
      "[  20.82912228   19.6547832    21.04458429   20.34190402   19.96212264\n",
      "  -98.83132688  -97.95217573 -102.04546046  -98.43532628  -95.53014423]\n",
      "[  19.57958613   18.40524706   19.79504814   19.09236788   18.7125865\n",
      " -100.08086302  -99.20171187 -103.2949966   -99.68486243  -96.77968038]\n",
      "[  20.51320454   19.33886546   20.72866655   20.02598629   19.64620491\n",
      "  -99.14724462  -98.26809346 -102.3613782   -98.75124402  -95.84606197]\n",
      "[  19.71587059   18.54153152   19.9313326    19.22865234   18.84887096\n",
      "  -99.94457856  -99.06542741 -103.15871215  -99.54857797  -96.64339592]\n",
      "[  20.30253761   19.12819853   20.51799962   19.81531935   19.43553797\n",
      "  -99.35791155  -98.47876039 -102.57204513  -98.96191095  -96.0567289 ]\n",
      "[  19.84393579   18.66959671   20.0593978    19.35671754   18.97693616\n",
      "  -99.81651337  -98.93736221 -103.03064695  -99.42051277  -96.51533072]\n",
      "[  20.25038393   19.07604486   20.46584594   19.76316568   19.3833843\n",
      "  -99.41006522  -98.53091407 -102.62419881  -99.01406463  -96.10888258]\n",
      "[  19.9390836    18.76474452   20.15454561   19.45186534   19.07208396\n",
      "  -99.72136556  -98.84221441 -102.93549914  -99.32536496  -96.42018291]\n",
      "[  20.19337405   19.01903497   20.40883606   19.7061558    19.32637442\n",
      "  -99.46707511  -98.58792395 -102.68120869  -99.07107451  -96.16589246]\n",
      "[  19.9596532    18.78531413   20.17511521   19.47243495   19.09265357\n",
      "  -99.70079595  -98.8216448  -102.91492953  -99.30479536  -96.39961331]\n",
      "[  20.14582725   18.97148817   20.36128926   19.65860899   19.27882761\n",
      "  -99.51462191  -98.63547076 -102.72875549  -99.11862131  -96.21343926]\n",
      "[  20.01883306   18.84449399   20.23429507   19.53161481   19.15183343\n",
      "  -99.64161609  -98.76246494 -102.85574967  -99.2456155   -96.34043345]\n",
      "[  20.11015058   18.9358115    20.32561259   19.62293232   19.24315094\n",
      "  -99.55029858  -98.67114743 -102.76443216  -99.15429798  -96.24911593]\n",
      "[  20.03455971   18.86022063   20.25002172   19.54734145   19.16756007\n",
      "  -99.62588945  -98.74673829 -102.84002303  -99.22988885  -96.3247068 ]\n",
      "[  20.08832572   18.91398665   20.30378773   19.60110747   19.22132609\n",
      "  -99.57212343  -98.69297228 -102.78625701  -99.17612284  -96.27094079]\n",
      "[  20.04783471   18.87349564   20.26329672   19.56061646   19.18083508\n",
      "  -99.61261444  -98.73346329 -102.82674802  -99.21661384  -96.3114318 ]\n",
      "[  20.0826391    18.90830003   20.29810111   19.59542085   19.21563947\n",
      "  -99.57781005  -98.6986589  -102.79194363  -99.18180946  -96.27662741]\n",
      "[  20.05685069   18.88251162   20.2723127    19.56963244   19.18985106\n",
      "  -99.60359846  -98.72444731 -102.81773204  -99.20759787  -96.30241582]\n",
      "[  20.07716522   18.90282615   20.29262723   19.58994697   19.21016559\n",
      "  -99.58328393  -98.70413278 -102.79741751  -99.18728334  -96.28210129]\n",
      "[  20.0590465    18.88470742   20.27450851   19.57182825   19.19204687\n",
      "  -99.60140266  -98.7222515  -102.81553624  -99.20540206  -96.30022001]\n",
      "[  20.07651214   18.90217307   20.29197415   19.58929389   19.20951251\n",
      "  -99.58393701  -98.70478586 -102.79807059  -99.18793642  -96.28275437]\n",
      "[  20.06175057   18.88741149   20.27721258   19.57453231   19.19475093\n",
      "  -99.59869859  -98.71954744 -102.81283217  -99.20269799  -96.29751594]\n",
      "[  20.07195639   18.89761731   20.2874184    19.58473813   19.20495675\n",
      "  -99.58849277  -98.70934161 -102.80262635  -99.19249217  -96.28731012]\n",
      "[  20.06540898   18.8910699    20.28087099   19.57819073   19.19840935\n",
      "  -99.59504018  -98.71588902 -102.80917376  -99.19903958  -96.29385753]\n",
      "[  20.07005008   18.895711     20.28551208   19.58283182   19.20305044\n",
      "  -99.59039908  -98.71124793 -102.80453266  -99.19439848  -96.28921643]\n",
      "[  20.06579829   18.89145921   20.2812603    19.57858004   19.19879866\n",
      "  -99.59465087  -98.71549971 -102.80878445  -99.19865027  -96.29346822]\n",
      "[  20.06978278   18.89544371   20.28524479   19.58256453   19.20278315\n",
      "  -99.59066637  -98.71151522 -102.80479995  -99.19466578  -96.28948373]\n",
      "[  20.06642765   18.89208857   20.28188966   19.57920939   19.19942801\n",
      "  -99.59402151  -98.71487035 -102.80815509  -99.19802091  -96.29283886]\n",
      "[  20.06887693   18.89453785   20.28433894   19.58165868   19.2018773\n",
      "  -99.59157223  -98.71242107 -102.80570581  -99.19557163  -96.29038958]\n",
      "[  20.06699384   18.89265477   20.28245585   19.57977559   19.19999421\n",
      "  -99.59345531  -98.71430416 -102.80758889  -99.19745472  -96.29227267]\n",
      "[  20.0685802    18.89424112   20.28404221   19.58136194   19.20158056\n",
      "  -99.59186896  -98.71271781 -102.80600254  -99.19586836  -96.29068631]\n",
      "[  20.06750475   18.89316568   20.28296676   19.5802865    19.20050512\n",
      "  -99.5929444   -98.71379325 -102.80707798  -99.1969438   -96.29176176]\n",
      "[  20.06750475   18.89316568   20.28296676   19.5802865    19.20050512\n",
      "  -99.5929444   -98.71379325 -102.80707798  -99.1969438   -96.29176176]\n",
      "[  20.06750475   18.89316568   20.28296676   19.5802865    19.20050512\n",
      "  -99.5929444   -98.71379325 -102.80707798  -99.1969438   -96.29176176]\n",
      "[  20.06750475   18.89316568   20.28296676   19.5802865    19.20050512\n",
      "  -99.5929444   -98.71379325 -102.80707798  -99.1969438   -96.29176176]\n",
      "[  20.06750475   18.89316568   20.28296676   19.5802865    19.20050512\n",
      "  -99.5929444   -98.71379325 -102.80707798  -99.1969438   -96.29176176]\n",
      "[  20.06750475   18.89316568   20.28296676   19.5802865    19.20050512\n",
      "  -99.5929444   -98.71379325 -102.80707798  -99.1969438   -96.29176176]\n",
      "[  20.06750475   18.89316568   20.28296676   19.5802865    19.20050512\n",
      "  -99.5929444   -98.71379325 -102.80707798  -99.1969438   -96.29176176]\n",
      "[  20.06750475   18.89316568   20.28296676   19.5802865    19.20050512\n",
      "  -99.5929444   -98.71379325 -102.80707798  -99.1969438   -96.29176176]\n",
      "[  20.06750475   18.89316568   20.28296676   19.5802865    19.20050512\n",
      "  -99.5929444   -98.71379325 -102.80707798  -99.1969438   -96.29176176]\n",
      "[  20.06750475   18.89316568   20.28296676   19.5802865    19.20050512\n",
      "  -99.5929444   -98.71379325 -102.80707798  -99.1969438   -96.29176176]\n",
      "[  20.06750475   18.89316568   20.28296676   19.5802865    19.20050512\n",
      "  -99.5929444   -98.71379325 -102.80707798  -99.1969438   -96.29176176]\n",
      "[  20.06750475   18.89316568   20.28296676   19.5802865    19.20050512\n",
      "  -99.5929444   -98.71379325 -102.80707798  -99.1969438   -96.29176176]\n",
      "[  20.06750475   18.89316568   20.28296676   19.5802865    19.20050512\n",
      "  -99.5929444   -98.71379325 -102.80707798  -99.1969438   -96.29176176]\n",
      "[  20.06750475   18.89316568   20.28296676   19.5802865    19.20050512\n",
      "  -99.5929444   -98.71379325 -102.80707798  -99.1969438   -96.29176176]\n",
      "[  20.06750475   18.89316568   20.28296676   19.5802865    19.20050512\n",
      "  -99.5929444   -98.71379325 -102.80707798  -99.1969438   -96.29176176]\n",
      "[  20.06750475   18.89316568   20.28296676   19.5802865    19.20050512\n",
      "  -99.5929444   -98.71379325 -102.80707798  -99.1969438   -96.29176176]\n",
      "[  20.06750475   18.89316568   20.28296676   19.5802865    19.20050512\n",
      "  -99.5929444   -98.71379325 -102.80707798  -99.1969438   -96.29176176]\n"
     ]
    },
    {
     "ename": "KeyboardInterrupt",
     "evalue": "",
     "output_type": "error",
     "traceback": [
      "\u001b[1;31m---------------------------------------------------------------------------\u001b[0m",
      "\u001b[1;31mKeyboardInterrupt\u001b[0m                         Traceback (most recent call last)",
      "\u001b[1;32m<ipython-input-25-5b26269a9e53>\u001b[0m in \u001b[0;36m<module>\u001b[1;34m\u001b[0m\n\u001b[1;32m----> 1\u001b[1;33m \u001b[0mx_bfgs\u001b[0m \u001b[1;33m=\u001b[0m \u001b[0mobjeto_2\u001b[0m\u001b[1;33m.\u001b[0m\u001b[0mOptimiza\u001b[0m\u001b[1;33m(\u001b[0m\u001b[1;34m\"BFGS\"\u001b[0m\u001b[1;33m,\u001b[0m\u001b[0mx_camaras\u001b[0m\u001b[1;33m)\u001b[0m\u001b[1;33m\u001b[0m\u001b[1;33m\u001b[0m\u001b[0m\n\u001b[0m\u001b[0;32m      2\u001b[0m \u001b[0mresp3\u001b[0m \u001b[1;33m=\u001b[0m \u001b[0mcosto\u001b[0m\u001b[1;33m(\u001b[0m\u001b[0mx_bfgs\u001b[0m\u001b[1;33m)\u001b[0m\u001b[1;33m\u001b[0m\u001b[1;33m\u001b[0m\u001b[0m\n\u001b[0;32m      3\u001b[0m \u001b[0mprint\u001b[0m\u001b[1;33m(\u001b[0m\u001b[1;34m\"El mínimo de la función está cerca de:\"\u001b[0m\u001b[1;33m,\u001b[0m \u001b[0mx_bfgs\u001b[0m\u001b[1;33m)\u001b[0m\u001b[1;33m\u001b[0m\u001b[1;33m\u001b[0m\u001b[0m\n\u001b[0;32m      4\u001b[0m \u001b[0mprint\u001b[0m\u001b[1;33m(\u001b[0m\u001b[1;34m\"El valor de la función costo en el xk encontrado:\"\u001b[0m\u001b[1;33m,\u001b[0m \u001b[0mresp3\u001b[0m\u001b[1;33m)\u001b[0m\u001b[1;33m\u001b[0m\u001b[1;33m\u001b[0m\u001b[0m\n",
      "\u001b[1;32m<ipython-input-20-e32697bd09c9>\u001b[0m in \u001b[0;36mOptimiza\u001b[1;34m(self, metodo, xk)\u001b[0m\n\u001b[0;32m    106\u001b[0m     \u001b[1;32mdef\u001b[0m \u001b[0mOptimiza\u001b[0m\u001b[1;33m(\u001b[0m\u001b[0mself\u001b[0m\u001b[1;33m,\u001b[0m \u001b[0mmetodo\u001b[0m\u001b[1;33m,\u001b[0m \u001b[0mxk\u001b[0m\u001b[1;33m)\u001b[0m\u001b[1;33m:\u001b[0m\u001b[1;33m\u001b[0m\u001b[1;33m\u001b[0m\u001b[0m\n\u001b[0;32m    107\u001b[0m         \u001b[1;32mif\u001b[0m \u001b[0mmetodo\u001b[0m \u001b[1;33m==\u001b[0m \u001b[1;34m\"BFGS\"\u001b[0m\u001b[1;33m:\u001b[0m\u001b[1;33m\u001b[0m\u001b[1;33m\u001b[0m\u001b[0m\n\u001b[1;32m--> 108\u001b[1;33m             \u001b[0mresp\u001b[0m \u001b[1;33m=\u001b[0m \u001b[0mself\u001b[0m\u001b[1;33m.\u001b[0m\u001b[0mBFGS\u001b[0m\u001b[1;33m(\u001b[0m\u001b[0mxk\u001b[0m\u001b[1;33m)\u001b[0m\u001b[1;33m\u001b[0m\u001b[1;33m\u001b[0m\u001b[0m\n\u001b[0m\u001b[0;32m    109\u001b[0m         \u001b[1;32melif\u001b[0m \u001b[0mmetodo\u001b[0m \u001b[1;33m==\u001b[0m \u001b[1;34m\"NEWTON_MOD\"\u001b[0m\u001b[1;33m:\u001b[0m\u001b[1;33m\u001b[0m\u001b[1;33m\u001b[0m\u001b[0m\n\u001b[0;32m    110\u001b[0m             \u001b[0mresp\u001b[0m \u001b[1;33m=\u001b[0m \u001b[0mself\u001b[0m\u001b[1;33m.\u001b[0m\u001b[0mNEWTON_MOD\u001b[0m\u001b[1;33m(\u001b[0m\u001b[0mxk\u001b[0m\u001b[1;33m)\u001b[0m\u001b[1;33m\u001b[0m\u001b[1;33m\u001b[0m\u001b[0m\n",
      "\u001b[1;32m<ipython-input-20-e32697bd09c9>\u001b[0m in \u001b[0;36mBFGS\u001b[1;34m(self, xk)\u001b[0m\n\u001b[0;32m     88\u001b[0m         \u001b[1;32mwhile\u001b[0m \u001b[0mnp\u001b[0m\u001b[1;33m.\u001b[0m\u001b[0mlinalg\u001b[0m\u001b[1;33m.\u001b[0m\u001b[0mnorm\u001b[0m\u001b[1;33m(\u001b[0m\u001b[0mself\u001b[0m\u001b[1;33m.\u001b[0m\u001b[0mgrad\u001b[0m\u001b[1;33m(\u001b[0m\u001b[0mxk\u001b[0m\u001b[1;33m)\u001b[0m\u001b[1;33m)\u001b[0m \u001b[1;33m>\u001b[0m \u001b[0mself\u001b[0m\u001b[1;33m.\u001b[0m\u001b[0meps\u001b[0m\u001b[1;33m:\u001b[0m\u001b[1;33m\u001b[0m\u001b[1;33m\u001b[0m\u001b[0m\n\u001b[0;32m     89\u001b[0m             \u001b[0mpk\u001b[0m \u001b[1;33m=\u001b[0m \u001b[1;33m-\u001b[0m\u001b[0mHk\u001b[0m\u001b[1;33m.\u001b[0m\u001b[0mdot\u001b[0m\u001b[1;33m(\u001b[0m\u001b[0mself\u001b[0m\u001b[1;33m.\u001b[0m\u001b[0mgrad\u001b[0m\u001b[1;33m(\u001b[0m\u001b[0mxk\u001b[0m\u001b[1;33m)\u001b[0m\u001b[1;33m)\u001b[0m\u001b[1;33m\u001b[0m\u001b[1;33m\u001b[0m\u001b[0m\n\u001b[1;32m---> 90\u001b[1;33m             \u001b[0malfa_k\u001b[0m \u001b[1;33m=\u001b[0m \u001b[0mself\u001b[0m\u001b[1;33m.\u001b[0m\u001b[0malfa\u001b[0m\u001b[1;33m(\u001b[0m\u001b[0mxk\u001b[0m\u001b[1;33m,\u001b[0m\u001b[0mpk\u001b[0m\u001b[1;33m)\u001b[0m\u001b[1;33m\u001b[0m\u001b[1;33m\u001b[0m\u001b[0m\n\u001b[0m\u001b[0;32m     91\u001b[0m             \u001b[0maux\u001b[0m \u001b[1;33m=\u001b[0m \u001b[0mxk\u001b[0m\u001b[1;33m\u001b[0m\u001b[1;33m\u001b[0m\u001b[0m\n\u001b[0;32m     92\u001b[0m             \u001b[0mxk\u001b[0m \u001b[1;33m=\u001b[0m \u001b[0mxk\u001b[0m \u001b[1;33m+\u001b[0m \u001b[0malfa_k\u001b[0m\u001b[1;33m*\u001b[0m\u001b[0mpk\u001b[0m\u001b[1;33m\u001b[0m\u001b[1;33m\u001b[0m\u001b[0m\n",
      "\u001b[1;32m<ipython-input-20-e32697bd09c9>\u001b[0m in \u001b[0;36malfa\u001b[1;34m(self, xk, p)\u001b[0m\n\u001b[0;32m     36\u001b[0m         \u001b[0mc\u001b[0m \u001b[1;33m=\u001b[0m \u001b[1;36m.001\u001b[0m\u001b[1;33m\u001b[0m\u001b[1;33m\u001b[0m\u001b[0m\n\u001b[0;32m     37\u001b[0m         \u001b[0malpha\u001b[0m \u001b[1;33m=\u001b[0m \u001b[0ma_gorro\u001b[0m\u001b[1;33m\u001b[0m\u001b[1;33m\u001b[0m\u001b[0m\n\u001b[1;32m---> 38\u001b[1;33m         \u001b[1;32mwhile\u001b[0m \u001b[0mself\u001b[0m\u001b[1;33m.\u001b[0m\u001b[0mf\u001b[0m\u001b[1;33m(\u001b[0m\u001b[0mxk\u001b[0m\u001b[1;33m+\u001b[0m\u001b[0malpha\u001b[0m\u001b[1;33m*\u001b[0m\u001b[0mp\u001b[0m\u001b[1;33m)\u001b[0m \u001b[1;33m>\u001b[0m \u001b[0mself\u001b[0m\u001b[1;33m.\u001b[0m\u001b[0mf\u001b[0m\u001b[1;33m(\u001b[0m\u001b[0mxk\u001b[0m\u001b[1;33m)\u001b[0m\u001b[1;33m+\u001b[0m\u001b[0mc\u001b[0m\u001b[1;33m*\u001b[0m\u001b[0malpha\u001b[0m\u001b[1;33m*\u001b[0m\u001b[1;33m(\u001b[0m\u001b[0mself\u001b[0m\u001b[1;33m.\u001b[0m\u001b[0mgrad\u001b[0m\u001b[1;33m(\u001b[0m\u001b[0mxk\u001b[0m\u001b[1;33m)\u001b[0m\u001b[1;33m.\u001b[0m\u001b[0mT\u001b[0m\u001b[1;33m)\u001b[0m\u001b[1;33m.\u001b[0m\u001b[0mdot\u001b[0m\u001b[1;33m(\u001b[0m\u001b[0mp\u001b[0m\u001b[1;33m)\u001b[0m\u001b[1;33m:\u001b[0m\u001b[1;33m\u001b[0m\u001b[1;33m\u001b[0m\u001b[0m\n\u001b[0m\u001b[0;32m     39\u001b[0m             \u001b[0malpha\u001b[0m \u001b[1;33m=\u001b[0m \u001b[0mro\u001b[0m\u001b[1;33m*\u001b[0m\u001b[0malpha\u001b[0m\u001b[1;33m\u001b[0m\u001b[1;33m\u001b[0m\u001b[0m\n\u001b[0;32m     40\u001b[0m         \u001b[1;32mreturn\u001b[0m \u001b[0malpha\u001b[0m\u001b[1;33m\u001b[0m\u001b[1;33m\u001b[0m\u001b[0m\n",
      "\u001b[1;32m<ipython-input-20-e32697bd09c9>\u001b[0m in \u001b[0;36mgrad\u001b[1;34m(self, xk)\u001b[0m\n\u001b[0;32m     18\u001b[0m             \u001b[0maux\u001b[0m\u001b[1;33m[\u001b[0m\u001b[0mi\u001b[0m\u001b[1;33m]\u001b[0m \u001b[1;33m=\u001b[0m \u001b[0mself\u001b[0m\u001b[1;33m.\u001b[0m\u001b[0meps\u001b[0m\u001b[1;33m\u001b[0m\u001b[1;33m\u001b[0m\u001b[0m\n\u001b[0;32m     19\u001b[0m             \u001b[0mx1\u001b[0m \u001b[1;33m=\u001b[0m \u001b[0mxk\u001b[0m \u001b[1;33m+\u001b[0m \u001b[0maux\u001b[0m\u001b[1;33m\u001b[0m\u001b[1;33m\u001b[0m\u001b[0m\n\u001b[1;32m---> 20\u001b[1;33m             \u001b[0mres\u001b[0m\u001b[1;33m[\u001b[0m\u001b[0mi\u001b[0m\u001b[1;33m]\u001b[0m \u001b[1;33m=\u001b[0m \u001b[1;33m(\u001b[0m\u001b[0mself\u001b[0m\u001b[1;33m.\u001b[0m\u001b[0mf\u001b[0m\u001b[1;33m(\u001b[0m\u001b[0mx1\u001b[0m\u001b[1;33m)\u001b[0m \u001b[1;33m-\u001b[0m \u001b[0mself\u001b[0m\u001b[1;33m.\u001b[0m\u001b[0mf\u001b[0m\u001b[1;33m(\u001b[0m\u001b[0mxk\u001b[0m\u001b[1;33m)\u001b[0m\u001b[1;33m)\u001b[0m\u001b[1;33m/\u001b[0m\u001b[0mself\u001b[0m\u001b[1;33m.\u001b[0m\u001b[0meps\u001b[0m\u001b[1;33m\u001b[0m\u001b[1;33m\u001b[0m\u001b[0m\n\u001b[0m\u001b[0;32m     21\u001b[0m         \u001b[1;32mreturn\u001b[0m \u001b[0mres\u001b[0m\u001b[1;33m\u001b[0m\u001b[1;33m\u001b[0m\u001b[0m\n\u001b[0;32m     22\u001b[0m \u001b[1;33m\u001b[0m\u001b[0m\n",
      "\u001b[1;32m<ipython-input-23-5649d40a3721>\u001b[0m in \u001b[0;36mcosto\u001b[1;34m(xk)\u001b[0m\n\u001b[0;32m     14\u001b[0m     \u001b[0mcamaras\u001b[0m \u001b[1;33m=\u001b[0m \u001b[0mcamaras\u001b[0m\u001b[1;33m.\u001b[0m\u001b[0mT\u001b[0m\u001b[1;33m\u001b[0m\u001b[1;33m\u001b[0m\u001b[0m\n\u001b[0;32m     15\u001b[0m     \u001b[1;31m#Para leer los datos de los crimenes\u001b[0m\u001b[1;33m\u001b[0m\u001b[1;33m\u001b[0m\u001b[1;33m\u001b[0m\u001b[0m\n\u001b[1;32m---> 16\u001b[1;33m     \u001b[0mdatos\u001b[0m \u001b[1;33m=\u001b[0m \u001b[0mpd\u001b[0m\u001b[1;33m.\u001b[0m\u001b[0mread_csv\u001b[0m\u001b[1;33m(\u001b[0m\u001b[1;34m'crime_data.csv'\u001b[0m\u001b[1;33m)\u001b[0m\u001b[1;33m\u001b[0m\u001b[1;33m\u001b[0m\u001b[0m\n\u001b[0m\u001b[0;32m     17\u001b[0m     \u001b[0mdatos\u001b[0m \u001b[1;33m=\u001b[0m \u001b[0mdatos\u001b[0m\u001b[1;33m.\u001b[0m\u001b[0mto_numpy\u001b[0m\u001b[1;33m(\u001b[0m\u001b[1;33m)\u001b[0m\u001b[1;33m\u001b[0m\u001b[1;33m\u001b[0m\u001b[0m\n\u001b[0;32m     18\u001b[0m     \u001b[1;31m#Para convertir los datos en una matriz\u001b[0m\u001b[1;33m\u001b[0m\u001b[1;33m\u001b[0m\u001b[1;33m\u001b[0m\u001b[0m\n",
      "\u001b[1;32m~\\anaconda3\\lib\\site-packages\\pandas\\io\\parsers.py\u001b[0m in \u001b[0;36mparser_f\u001b[1;34m(filepath_or_buffer, sep, delimiter, header, names, index_col, usecols, squeeze, prefix, mangle_dupe_cols, dtype, engine, converters, true_values, false_values, skipinitialspace, skiprows, skipfooter, nrows, na_values, keep_default_na, na_filter, verbose, skip_blank_lines, parse_dates, infer_datetime_format, keep_date_col, date_parser, dayfirst, cache_dates, iterator, chunksize, compression, thousands, decimal, lineterminator, quotechar, quoting, doublequote, escapechar, comment, encoding, dialect, error_bad_lines, warn_bad_lines, delim_whitespace, low_memory, memory_map, float_precision)\u001b[0m\n\u001b[0;32m    674\u001b[0m         )\n\u001b[0;32m    675\u001b[0m \u001b[1;33m\u001b[0m\u001b[0m\n\u001b[1;32m--> 676\u001b[1;33m         \u001b[1;32mreturn\u001b[0m \u001b[0m_read\u001b[0m\u001b[1;33m(\u001b[0m\u001b[0mfilepath_or_buffer\u001b[0m\u001b[1;33m,\u001b[0m \u001b[0mkwds\u001b[0m\u001b[1;33m)\u001b[0m\u001b[1;33m\u001b[0m\u001b[1;33m\u001b[0m\u001b[0m\n\u001b[0m\u001b[0;32m    677\u001b[0m \u001b[1;33m\u001b[0m\u001b[0m\n\u001b[0;32m    678\u001b[0m     \u001b[0mparser_f\u001b[0m\u001b[1;33m.\u001b[0m\u001b[0m__name__\u001b[0m \u001b[1;33m=\u001b[0m \u001b[0mname\u001b[0m\u001b[1;33m\u001b[0m\u001b[1;33m\u001b[0m\u001b[0m\n",
      "\u001b[1;32m~\\anaconda3\\lib\\site-packages\\pandas\\io\\parsers.py\u001b[0m in \u001b[0;36m_read\u001b[1;34m(filepath_or_buffer, kwds)\u001b[0m\n\u001b[0;32m    452\u001b[0m \u001b[1;33m\u001b[0m\u001b[0m\n\u001b[0;32m    453\u001b[0m     \u001b[1;32mtry\u001b[0m\u001b[1;33m:\u001b[0m\u001b[1;33m\u001b[0m\u001b[1;33m\u001b[0m\u001b[0m\n\u001b[1;32m--> 454\u001b[1;33m         \u001b[0mdata\u001b[0m \u001b[1;33m=\u001b[0m \u001b[0mparser\u001b[0m\u001b[1;33m.\u001b[0m\u001b[0mread\u001b[0m\u001b[1;33m(\u001b[0m\u001b[0mnrows\u001b[0m\u001b[1;33m)\u001b[0m\u001b[1;33m\u001b[0m\u001b[1;33m\u001b[0m\u001b[0m\n\u001b[0m\u001b[0;32m    455\u001b[0m     \u001b[1;32mfinally\u001b[0m\u001b[1;33m:\u001b[0m\u001b[1;33m\u001b[0m\u001b[1;33m\u001b[0m\u001b[0m\n\u001b[0;32m    456\u001b[0m         \u001b[0mparser\u001b[0m\u001b[1;33m.\u001b[0m\u001b[0mclose\u001b[0m\u001b[1;33m(\u001b[0m\u001b[1;33m)\u001b[0m\u001b[1;33m\u001b[0m\u001b[1;33m\u001b[0m\u001b[0m\n",
      "\u001b[1;32m~\\anaconda3\\lib\\site-packages\\pandas\\io\\parsers.py\u001b[0m in \u001b[0;36mread\u001b[1;34m(self, nrows)\u001b[0m\n\u001b[0;32m   1146\u001b[0m             \u001b[0mnew_rows\u001b[0m \u001b[1;33m=\u001b[0m \u001b[0mlen\u001b[0m\u001b[1;33m(\u001b[0m\u001b[0mindex\u001b[0m\u001b[1;33m)\u001b[0m\u001b[1;33m\u001b[0m\u001b[1;33m\u001b[0m\u001b[0m\n\u001b[0;32m   1147\u001b[0m \u001b[1;33m\u001b[0m\u001b[0m\n\u001b[1;32m-> 1148\u001b[1;33m         \u001b[0mdf\u001b[0m \u001b[1;33m=\u001b[0m \u001b[0mDataFrame\u001b[0m\u001b[1;33m(\u001b[0m\u001b[0mcol_dict\u001b[0m\u001b[1;33m,\u001b[0m \u001b[0mcolumns\u001b[0m\u001b[1;33m=\u001b[0m\u001b[0mcolumns\u001b[0m\u001b[1;33m,\u001b[0m \u001b[0mindex\u001b[0m\u001b[1;33m=\u001b[0m\u001b[0mindex\u001b[0m\u001b[1;33m)\u001b[0m\u001b[1;33m\u001b[0m\u001b[1;33m\u001b[0m\u001b[0m\n\u001b[0m\u001b[0;32m   1149\u001b[0m \u001b[1;33m\u001b[0m\u001b[0m\n\u001b[0;32m   1150\u001b[0m         \u001b[0mself\u001b[0m\u001b[1;33m.\u001b[0m\u001b[0m_currow\u001b[0m \u001b[1;33m+=\u001b[0m \u001b[0mnew_rows\u001b[0m\u001b[1;33m\u001b[0m\u001b[1;33m\u001b[0m\u001b[0m\n",
      "\u001b[1;32m~\\anaconda3\\lib\\site-packages\\pandas\\core\\frame.py\u001b[0m in \u001b[0;36m__init__\u001b[1;34m(self, data, index, columns, dtype, copy)\u001b[0m\n\u001b[0;32m    433\u001b[0m             )\n\u001b[0;32m    434\u001b[0m         \u001b[1;32melif\u001b[0m \u001b[0misinstance\u001b[0m\u001b[1;33m(\u001b[0m\u001b[0mdata\u001b[0m\u001b[1;33m,\u001b[0m \u001b[0mdict\u001b[0m\u001b[1;33m)\u001b[0m\u001b[1;33m:\u001b[0m\u001b[1;33m\u001b[0m\u001b[1;33m\u001b[0m\u001b[0m\n\u001b[1;32m--> 435\u001b[1;33m             \u001b[0mmgr\u001b[0m \u001b[1;33m=\u001b[0m \u001b[0minit_dict\u001b[0m\u001b[1;33m(\u001b[0m\u001b[0mdata\u001b[0m\u001b[1;33m,\u001b[0m \u001b[0mindex\u001b[0m\u001b[1;33m,\u001b[0m \u001b[0mcolumns\u001b[0m\u001b[1;33m,\u001b[0m \u001b[0mdtype\u001b[0m\u001b[1;33m=\u001b[0m\u001b[0mdtype\u001b[0m\u001b[1;33m)\u001b[0m\u001b[1;33m\u001b[0m\u001b[1;33m\u001b[0m\u001b[0m\n\u001b[0m\u001b[0;32m    436\u001b[0m         \u001b[1;32melif\u001b[0m \u001b[0misinstance\u001b[0m\u001b[1;33m(\u001b[0m\u001b[0mdata\u001b[0m\u001b[1;33m,\u001b[0m \u001b[0mma\u001b[0m\u001b[1;33m.\u001b[0m\u001b[0mMaskedArray\u001b[0m\u001b[1;33m)\u001b[0m\u001b[1;33m:\u001b[0m\u001b[1;33m\u001b[0m\u001b[1;33m\u001b[0m\u001b[0m\n\u001b[0;32m    437\u001b[0m             \u001b[1;32mimport\u001b[0m \u001b[0mnumpy\u001b[0m\u001b[1;33m.\u001b[0m\u001b[0mma\u001b[0m\u001b[1;33m.\u001b[0m\u001b[0mmrecords\u001b[0m \u001b[1;32mas\u001b[0m \u001b[0mmrecords\u001b[0m\u001b[1;33m\u001b[0m\u001b[1;33m\u001b[0m\u001b[0m\n",
      "\u001b[1;32m~\\anaconda3\\lib\\site-packages\\pandas\\core\\internals\\construction.py\u001b[0m in \u001b[0;36minit_dict\u001b[1;34m(data, index, columns, dtype)\u001b[0m\n\u001b[0;32m    222\u001b[0m         \u001b[0mdata_names\u001b[0m \u001b[1;33m=\u001b[0m \u001b[0marrays\u001b[0m\u001b[1;33m.\u001b[0m\u001b[0mindex\u001b[0m\u001b[1;33m\u001b[0m\u001b[1;33m\u001b[0m\u001b[0m\n\u001b[0;32m    223\u001b[0m \u001b[1;33m\u001b[0m\u001b[0m\n\u001b[1;32m--> 224\u001b[1;33m         \u001b[0mmissing\u001b[0m \u001b[1;33m=\u001b[0m \u001b[0marrays\u001b[0m\u001b[1;33m.\u001b[0m\u001b[0misna\u001b[0m\u001b[1;33m(\u001b[0m\u001b[1;33m)\u001b[0m\u001b[1;33m\u001b[0m\u001b[1;33m\u001b[0m\u001b[0m\n\u001b[0m\u001b[0;32m    225\u001b[0m         \u001b[1;32mif\u001b[0m \u001b[0mindex\u001b[0m \u001b[1;32mis\u001b[0m \u001b[1;32mNone\u001b[0m\u001b[1;33m:\u001b[0m\u001b[1;33m\u001b[0m\u001b[1;33m\u001b[0m\u001b[0m\n\u001b[0;32m    226\u001b[0m             \u001b[1;31m# GH10856\u001b[0m\u001b[1;33m\u001b[0m\u001b[1;33m\u001b[0m\u001b[1;33m\u001b[0m\u001b[0m\n",
      "\u001b[1;32m~\\anaconda3\\lib\\site-packages\\pandas\\core\\series.py\u001b[0m in \u001b[0;36misna\u001b[1;34m(self)\u001b[0m\n\u001b[0;32m   4400\u001b[0m     \u001b[1;33m@\u001b[0m\u001b[0mAppender\u001b[0m\u001b[1;33m(\u001b[0m\u001b[0mgeneric\u001b[0m\u001b[1;33m.\u001b[0m\u001b[0m_shared_docs\u001b[0m\u001b[1;33m[\u001b[0m\u001b[1;34m\"isna\"\u001b[0m\u001b[1;33m]\u001b[0m \u001b[1;33m%\u001b[0m \u001b[0m_shared_doc_kwargs\u001b[0m\u001b[1;33m)\u001b[0m\u001b[1;33m\u001b[0m\u001b[1;33m\u001b[0m\u001b[0m\n\u001b[0;32m   4401\u001b[0m     \u001b[1;32mdef\u001b[0m \u001b[0misna\u001b[0m\u001b[1;33m(\u001b[0m\u001b[0mself\u001b[0m\u001b[1;33m)\u001b[0m\u001b[1;33m:\u001b[0m\u001b[1;33m\u001b[0m\u001b[1;33m\u001b[0m\u001b[0m\n\u001b[1;32m-> 4402\u001b[1;33m         \u001b[1;32mreturn\u001b[0m \u001b[0msuper\u001b[0m\u001b[1;33m(\u001b[0m\u001b[1;33m)\u001b[0m\u001b[1;33m.\u001b[0m\u001b[0misna\u001b[0m\u001b[1;33m(\u001b[0m\u001b[1;33m)\u001b[0m\u001b[1;33m\u001b[0m\u001b[1;33m\u001b[0m\u001b[0m\n\u001b[0m\u001b[0;32m   4403\u001b[0m \u001b[1;33m\u001b[0m\u001b[0m\n\u001b[0;32m   4404\u001b[0m     \u001b[1;33m@\u001b[0m\u001b[0mAppender\u001b[0m\u001b[1;33m(\u001b[0m\u001b[0mgeneric\u001b[0m\u001b[1;33m.\u001b[0m\u001b[0m_shared_docs\u001b[0m\u001b[1;33m[\u001b[0m\u001b[1;34m\"isna\"\u001b[0m\u001b[1;33m]\u001b[0m \u001b[1;33m%\u001b[0m \u001b[0m_shared_doc_kwargs\u001b[0m\u001b[1;33m)\u001b[0m\u001b[1;33m\u001b[0m\u001b[1;33m\u001b[0m\u001b[0m\n",
      "\u001b[1;32m~\\anaconda3\\lib\\site-packages\\pandas\\core\\generic.py\u001b[0m in \u001b[0;36misna\u001b[1;34m(self)\u001b[0m\n\u001b[0;32m   7264\u001b[0m     \u001b[1;33m@\u001b[0m\u001b[0mAppender\u001b[0m\u001b[1;33m(\u001b[0m\u001b[0m_shared_docs\u001b[0m\u001b[1;33m[\u001b[0m\u001b[1;34m\"isna\"\u001b[0m\u001b[1;33m]\u001b[0m \u001b[1;33m%\u001b[0m \u001b[0m_shared_doc_kwargs\u001b[0m\u001b[1;33m)\u001b[0m\u001b[1;33m\u001b[0m\u001b[1;33m\u001b[0m\u001b[0m\n\u001b[0;32m   7265\u001b[0m     \u001b[1;32mdef\u001b[0m \u001b[0misna\u001b[0m\u001b[1;33m(\u001b[0m\u001b[0mself\u001b[0m\u001b[1;33m:\u001b[0m \u001b[0mFrameOrSeries\u001b[0m\u001b[1;33m)\u001b[0m \u001b[1;33m->\u001b[0m \u001b[0mFrameOrSeries\u001b[0m\u001b[1;33m:\u001b[0m\u001b[1;33m\u001b[0m\u001b[1;33m\u001b[0m\u001b[0m\n\u001b[1;32m-> 7266\u001b[1;33m         \u001b[1;32mreturn\u001b[0m \u001b[0misna\u001b[0m\u001b[1;33m(\u001b[0m\u001b[0mself\u001b[0m\u001b[1;33m)\u001b[0m\u001b[1;33m.\u001b[0m\u001b[0m__finalize__\u001b[0m\u001b[1;33m(\u001b[0m\u001b[0mself\u001b[0m\u001b[1;33m)\u001b[0m\u001b[1;33m\u001b[0m\u001b[1;33m\u001b[0m\u001b[0m\n\u001b[0m\u001b[0;32m   7267\u001b[0m \u001b[1;33m\u001b[0m\u001b[0m\n\u001b[0;32m   7268\u001b[0m     \u001b[1;33m@\u001b[0m\u001b[0mAppender\u001b[0m\u001b[1;33m(\u001b[0m\u001b[0m_shared_docs\u001b[0m\u001b[1;33m[\u001b[0m\u001b[1;34m\"isna\"\u001b[0m\u001b[1;33m]\u001b[0m \u001b[1;33m%\u001b[0m \u001b[0m_shared_doc_kwargs\u001b[0m\u001b[1;33m)\u001b[0m\u001b[1;33m\u001b[0m\u001b[1;33m\u001b[0m\u001b[0m\n",
      "\u001b[1;32m~\\anaconda3\\lib\\site-packages\\pandas\\core\\dtypes\\missing.py\u001b[0m in \u001b[0;36misna\u001b[1;34m(obj)\u001b[0m\n\u001b[0;32m    124\u001b[0m     \u001b[0mName\u001b[0m\u001b[1;33m:\u001b[0m \u001b[1;36m1\u001b[0m\u001b[1;33m,\u001b[0m \u001b[0mdtype\u001b[0m\u001b[1;33m:\u001b[0m \u001b[0mbool\u001b[0m\u001b[1;33m\u001b[0m\u001b[1;33m\u001b[0m\u001b[0m\n\u001b[0;32m    125\u001b[0m     \"\"\"\n\u001b[1;32m--> 126\u001b[1;33m     \u001b[1;32mreturn\u001b[0m \u001b[0m_isna\u001b[0m\u001b[1;33m(\u001b[0m\u001b[0mobj\u001b[0m\u001b[1;33m)\u001b[0m\u001b[1;33m\u001b[0m\u001b[1;33m\u001b[0m\u001b[0m\n\u001b[0m\u001b[0;32m    127\u001b[0m \u001b[1;33m\u001b[0m\u001b[0m\n\u001b[0;32m    128\u001b[0m \u001b[1;33m\u001b[0m\u001b[0m\n",
      "\u001b[1;32m~\\anaconda3\\lib\\site-packages\\pandas\\core\\dtypes\\missing.py\u001b[0m in \u001b[0;36m_isna_new\u001b[1;34m(obj)\u001b[0m\n\u001b[0;32m    150\u001b[0m         ),\n\u001b[0;32m    151\u001b[0m     ):\n\u001b[1;32m--> 152\u001b[1;33m         \u001b[1;32mreturn\u001b[0m \u001b[0m_isna_ndarraylike\u001b[0m\u001b[1;33m(\u001b[0m\u001b[0mobj\u001b[0m\u001b[1;33m)\u001b[0m\u001b[1;33m\u001b[0m\u001b[1;33m\u001b[0m\u001b[0m\n\u001b[0m\u001b[0;32m    153\u001b[0m     \u001b[1;32melif\u001b[0m \u001b[0misinstance\u001b[0m\u001b[1;33m(\u001b[0m\u001b[0mobj\u001b[0m\u001b[1;33m,\u001b[0m \u001b[0mABCGeneric\u001b[0m\u001b[1;33m)\u001b[0m\u001b[1;33m:\u001b[0m\u001b[1;33m\u001b[0m\u001b[1;33m\u001b[0m\u001b[0m\n\u001b[0;32m    154\u001b[0m         \u001b[1;32mreturn\u001b[0m \u001b[0mobj\u001b[0m\u001b[1;33m.\u001b[0m\u001b[0m_constructor\u001b[0m\u001b[1;33m(\u001b[0m\u001b[0mobj\u001b[0m\u001b[1;33m.\u001b[0m\u001b[0m_data\u001b[0m\u001b[1;33m.\u001b[0m\u001b[0misna\u001b[0m\u001b[1;33m(\u001b[0m\u001b[0mfunc\u001b[0m\u001b[1;33m=\u001b[0m\u001b[0misna\u001b[0m\u001b[1;33m)\u001b[0m\u001b[1;33m)\u001b[0m\u001b[1;33m\u001b[0m\u001b[1;33m\u001b[0m\u001b[0m\n",
      "\u001b[1;32m~\\anaconda3\\lib\\site-packages\\pandas\\core\\dtypes\\missing.py\u001b[0m in \u001b[0;36m_isna_ndarraylike\u001b[1;34m(obj)\u001b[0m\n\u001b[0;32m    254\u001b[0m             \u001b[0mresult\u001b[0m \u001b[1;33m=\u001b[0m \u001b[0mnp\u001b[0m\u001b[1;33m.\u001b[0m\u001b[0mempty\u001b[0m\u001b[1;33m(\u001b[0m\u001b[0mshape\u001b[0m\u001b[1;33m,\u001b[0m \u001b[0mdtype\u001b[0m\u001b[1;33m=\u001b[0m\u001b[0mbool\u001b[0m\u001b[1;33m)\u001b[0m\u001b[1;33m\u001b[0m\u001b[1;33m\u001b[0m\u001b[0m\n\u001b[0;32m    255\u001b[0m             \u001b[0mvec\u001b[0m \u001b[1;33m=\u001b[0m \u001b[0mlibmissing\u001b[0m\u001b[1;33m.\u001b[0m\u001b[0misnaobj\u001b[0m\u001b[1;33m(\u001b[0m\u001b[0mvalues\u001b[0m\u001b[1;33m.\u001b[0m\u001b[0mravel\u001b[0m\u001b[1;33m(\u001b[0m\u001b[1;33m)\u001b[0m\u001b[1;33m)\u001b[0m\u001b[1;33m\u001b[0m\u001b[1;33m\u001b[0m\u001b[0m\n\u001b[1;32m--> 256\u001b[1;33m             \u001b[0mresult\u001b[0m\u001b[1;33m[\u001b[0m\u001b[1;33m...\u001b[0m\u001b[1;33m]\u001b[0m \u001b[1;33m=\u001b[0m \u001b[0mvec\u001b[0m\u001b[1;33m.\u001b[0m\u001b[0mreshape\u001b[0m\u001b[1;33m(\u001b[0m\u001b[0mshape\u001b[0m\u001b[1;33m)\u001b[0m\u001b[1;33m\u001b[0m\u001b[1;33m\u001b[0m\u001b[0m\n\u001b[0m\u001b[0;32m    257\u001b[0m \u001b[1;33m\u001b[0m\u001b[0m\n\u001b[0;32m    258\u001b[0m     \u001b[1;32melif\u001b[0m \u001b[0mneeds_i8_conversion\u001b[0m\u001b[1;33m(\u001b[0m\u001b[0mdtype\u001b[0m\u001b[1;33m)\u001b[0m\u001b[1;33m:\u001b[0m\u001b[1;33m\u001b[0m\u001b[1;33m\u001b[0m\u001b[0m\n",
      "\u001b[1;31mKeyboardInterrupt\u001b[0m: "
     ]
    }
   ],
   "source": [
    "x_bfgs = objeto_2.Optimiza(\"BFGS\",x_camaras)\n",
    "resp3 = costo(x_bfgs)\n",
    "print(\"El mínimo de la función está cerca de:\", x_bfgs)\n",
    "print(\"El valor de la función costo en el xk encontrado:\", resp3)"
   ]
  },
  {
   "cell_type": "code",
   "execution_count": null,
   "metadata": {},
   "outputs": [],
   "source": []
  }
 ],
 "metadata": {
  "kernelspec": {
   "display_name": "Python 3",
   "language": "python",
   "name": "python3"
  },
  "language_info": {
   "codemirror_mode": {
    "name": "ipython",
    "version": 3
   },
   "file_extension": ".py",
   "mimetype": "text/x-python",
   "name": "python",
   "nbconvert_exporter": "python",
   "pygments_lexer": "ipython3",
   "version": "3.8.3"
  }
 },
 "nbformat": 4,
 "nbformat_minor": 4
}
